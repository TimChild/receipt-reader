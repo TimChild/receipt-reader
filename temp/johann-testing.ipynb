{
 "cells": [
  {
   "cell_type": "code",
   "execution_count": null,
   "id": "737d7ad4",
   "metadata": {},
   "outputs": [],
   "source": [
    "import json\n",
    "import os\n",
    "\n",
    "# import plotly.graph_objects as go\n",
    "from PIL import Image, ImageDraw\n",
    "# import plotly.express as px"
   ]
  },
  {
   "cell_type": "code",
   "execution_count": 4,
   "id": "b383d8b8",
   "metadata": {},
   "outputs": [],
   "source": [
    "PWD = os.getcwd()\n",
    "JSON_DIR = (\"/\").join(PWD.split(\"/\")[:-1])\n",
    "\n",
    "JSON_FILE = JSON_DIR + \"/\" + \"example-receipt1_analysis.json\"\n",
    "PNG_FILE = JSON_DIR + \"/uploaded_files/example-receipt1.png\"\n",
    "\n",
    "with open(JSON_FILE) as json_data:\n",
    "    d = json.load(json_data)\n",
    "    json_data.close()\n",
    "\n",
    "\n",
    "img = Image.open(PNG_FILE)"
   ]
  },
  {
   "cell_type": "code",
   "execution_count": 5,
   "id": "06d5702d",
   "metadata": {},
   "outputs": [
    {
     "data": {
      "text/plain": [
       "'/Users/johanndrayne/Documents/_GitHub/TimChild/receipt-reader/uploaded_files/example-receipt1.png'"
      ]
     },
     "execution_count": 5,
     "metadata": {},
     "output_type": "execute_result"
    }
   ],
   "source": [
    "PNG_FILE"
   ]
  },
  {
   "cell_type": "code",
   "execution_count": null,
   "id": "c73c8a33",
   "metadata": {},
   "outputs": [],
   "source": [
    "def draw_bounding_box(img, bounding_box, img_width, img_height) -> None:  # noqa: ANN001\n",
    "    width = bounding_box[\"Width\"] * img_width\n",
    "    height = bounding_box[\"Height\"] * img_height\n",
    "    left = bounding_box[\"Left\"] * img_width\n",
    "    top = bounding_box[\"Top\"] * img_height\n",
    "\n",
    "    img.rectangle([left, top, left + width, top + height], outline=\"black\")\n",
    "\n",
    "\n",
    "def convert_polygon_dict_to_list(polygon):  # noqa: ANN001, ANN201\n",
    "    polygon_list = []\n",
    "\n",
    "    for xy in polygon:\n",
    "        polygon_list.append([xy[\"X\"], xy[\"Y\"]])\n",
    "\n",
    "    return polygon_list\n",
    "\n",
    "\n",
    "def draw_polygon(img, polygon, img_width, img_height):  # noqa: ANN001, ANN201\n",
    "    polygon_resized = convert_polygon_dict_to_list(polygon)\n",
    "    polygon_resized = [(x * img_width, y * img_height) for x, y in polygon_resized]\n",
    "\n",
    "    img.polygon(polygon_resized, outline=\"black\")"
   ]
  },
  {
   "cell_type": "code",
   "execution_count": null,
   "id": "fe936636",
   "metadata": {},
   "outputs": [
    {
     "name": "stdout",
     "output_type": "stream",
     "text": [
      "\n",
      "DISTRIKT\n",
      "Coffee\n",
      "Organic Smoothies (vegan)\n",
      "Filter 3.2\n",
      "Green\n",
      "Iced Black 3.5\n",
      "with pineapple banana kale dates lime\n",
      "mango avocado & mint 65\n",
      "Double Espresso 3.2\n",
      "Cortado12 3\n",
      "Aco\n",
      "Coppuccino1 32\n",
      "with banana strawberries blueberries sour\n",
      "cherries dates & coconut 65\n",
      "Latte 3.5\n",
      "Iced Latte 4\n",
      "Flat White 3.7\n",
      "Oatly oat milk 03\n",
      "Breakfast & Lunch\n",
      "Tea & Hot Drinks\n",
      "Homemade granola with greek yogurt?\n",
      "fresh strawberries & basil 7.5\n",
      "Fresh Ginger & Lemon 35\n",
      "Tea from Companion 3.5\n",
      "Overnight oats with chia seeds cocoo ribs\n",
      "Choi Latte 3.5\n",
      "blueberry compote & peanut butter 8\n",
      "French Toast with blueberry compote\n",
      "eshing\n"
     ]
    }
   ],
   "source": [
    "img = Image.open(PNG_FILE)\n",
    "img_width, img_height = img.size\n",
    "\n",
    "draw = ImageDraw.Draw(img)\n",
    "\n",
    "for i, block in enumerate(d):\n",
    "    if i < 30:\n",
    "        # print(block['Text'])\n",
    "\n",
    "        bounding_box = block[\"Geometry\"][\"BoundingBox\"]\n",
    "        draw_bounding_box(draw, bounding_box, img_width, img_height)\n",
    "\n",
    "        polygon = block[\"Geometry\"][\"Polygon\"]\n",
    "        draw_polygon(draw, polygon, img_width, img_height)\n",
    "\n",
    "\n",
    "img.show()"
   ]
  },
  {
   "cell_type": "code",
   "execution_count": null,
   "id": "44fbfa4a",
   "metadata": {},
   "outputs": [],
   "source": []
  }
 ],
 "metadata": {
  "kernelspec": {
   "display_name": ".venv",
   "language": "python",
   "name": "python3"
  },
  "language_info": {
   "codemirror_mode": {
    "name": "ipython",
    "version": 3
   },
   "file_extension": ".py",
   "mimetype": "text/x-python",
   "name": "python",
   "nbconvert_exporter": "python",
   "pygments_lexer": "ipython3",
   "version": "3.13.2"
  }
 },
 "nbformat": 4,
 "nbformat_minor": 5
}
