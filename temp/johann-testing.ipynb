{
 "cells": [
  {
   "cell_type": "code",
   "execution_count": 9,
   "id": "21c32fb9-e505-4987-9316-9f0ba0efbd36",
   "metadata": {},
   "outputs": [],
   "source": [
    "%load_ext autoreload\n",
    "%autoreload 2"
   ]
  },
  {
   "cell_type": "code",
   "execution_count": 1,
   "id": "737d7ad4",
   "metadata": {},
   "outputs": [],
   "source": [
    "import json\n",
    "import os\n",
    "\n",
    "# import plotly.graph_objects as go\n",
    "from PIL import Image, ImageDraw\n",
    "# import plotly.express as px"
   ]
  },
  {
   "cell_type": "code",
   "execution_count": null,
   "id": "d7ffdcc0-1692-4e68-a52b-e207df470a63",
   "metadata": {},
   "outputs": [],
   "source": [
    "PWD = os.getcwd()\n",
    "JSON_DIR = (\"/\").join(PWD.split(\"/\")[:-1])"
   ]
  },
  {
   "cell_type": "code",
   "execution_count": 4,
   "id": "a57b2b0d-5f6c-46fe-a425-a73c0d5eec3f",
   "metadata": {},
   "outputs": [
    {
     "data": {
      "text/plain": [
       "'/home/tim/github/receipt-reader'"
      ]
     },
     "execution_count": 4,
     "metadata": {},
     "output_type": "execute_result"
    }
   ],
   "source": [
    "JSON_DIR"
   ]
  },
  {
   "cell_type": "code",
   "execution_count": 5,
   "id": "3a542915-fd87-4941-bf5a-597a2890a3a5",
   "metadata": {},
   "outputs": [],
   "source": [
    "JSON_FILE = JSON_DIR + \"/\" + \"example-receipt_analysis.json\"\n",
    "PNG_FILE = JSON_DIR + \"/uploaded_files/example-receipt.png\"\n",
    "\n",
    "with open(JSON_FILE) as json_data:\n",
    "    d = json.load(json_data)\n",
    "    json_data.close()\n",
    "\n",
    "\n",
    "img = Image.open(PNG_FILE)"
   ]
  },
  {
   "cell_type": "code",
   "execution_count": 6,
   "id": "06d5702d",
   "metadata": {},
   "outputs": [
    {
     "data": {
      "text/plain": [
       "'/home/tim/github/receipt-reader/uploaded_files/example-receipt.png'"
      ]
     },
     "execution_count": 6,
     "metadata": {},
     "output_type": "execute_result"
    }
   ],
   "source": [
    "PNG_FILE"
   ]
  },
  {
   "cell_type": "code",
   "execution_count": 7,
   "id": "c73c8a33",
   "metadata": {},
   "outputs": [],
   "source": [
    "def draw_bounding_box(img, bounding_box, img_width, img_height) -> None:  # noqa: ANN001\n",
    "    width = bounding_box[\"Width\"] * img_width\n",
    "    height = bounding_box[\"Height\"] * img_height\n",
    "    left = bounding_box[\"Left\"] * img_width\n",
    "    top = bounding_box[\"Top\"] * img_height\n",
    "\n",
    "    img.rectangle([left, top, left + width, top + height], outline=\"black\")\n",
    "\n",
    "\n",
    "def convert_polygon_dict_to_list(polygon):  # noqa: ANN001, ANN201\n",
    "    polygon_list = []\n",
    "\n",
    "    for xy in polygon:\n",
    "        polygon_list.append([xy[\"X\"], xy[\"Y\"]])\n",
    "\n",
    "    return polygon_list\n",
    "\n",
    "\n",
    "def draw_polygon(img, polygon, img_width, img_height):  # noqa: ANN001, ANN201\n",
    "    polygon_resized = convert_polygon_dict_to_list(polygon)\n",
    "    polygon_resized = [(x * img_width, y * img_height) for x, y in polygon_resized]\n",
    "\n",
    "    img.polygon(polygon_resized, outline=\"black\")"
   ]
  },
  {
   "cell_type": "code",
   "execution_count": 8,
   "id": "fe936636",
   "metadata": {},
   "outputs": [],
   "source": [
    "img = Image.open(PNG_FILE)\n",
    "img_width, img_height = img.size\n",
    "\n",
    "draw = ImageDraw.Draw(img)\n",
    "\n",
    "for i, block in enumerate(d):\n",
    "    if i < 30:\n",
    "        # print(block['Text'])\n",
    "\n",
    "        bounding_box = block[\"Geometry\"][\"BoundingBox\"]\n",
    "        draw_bounding_box(draw, bounding_box, img_width, img_height)\n",
    "\n",
    "        polygon = block[\"Geometry\"][\"Polygon\"]\n",
    "        draw_polygon(draw, polygon, img_width, img_height)\n",
    "\n",
    "\n",
    "img.show()"
   ]
  },
  {
   "cell_type": "code",
   "execution_count": null,
   "id": "44fbfa4a",
   "metadata": {},
   "outputs": [],
   "source": []
  }
 ],
 "metadata": {
  "kernelspec": {
   "display_name": "Python 3 (ipykernel)",
   "language": "python",
   "name": "python3"
  },
  "language_info": {
   "codemirror_mode": {
    "name": "ipython",
    "version": 3
   },
   "file_extension": ".py",
   "mimetype": "text/x-python",
   "name": "python",
   "nbconvert_exporter": "python",
   "pygments_lexer": "ipython3",
   "version": "3.13.2"
  }
 },
 "nbformat": 4,
 "nbformat_minor": 5
}
